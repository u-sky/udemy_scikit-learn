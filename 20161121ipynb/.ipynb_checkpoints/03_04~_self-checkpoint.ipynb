{
 "cells": [
  {
   "cell_type": "code",
   "execution_count": 1,
   "metadata": {
    "collapsed": true
   },
   "outputs": [],
   "source": [
    "import numpy as np\n",
    "from sklearn.datasets import load_iris\n",
    "from sklearn.model_selection import ShuffleSplit\n",
    "from sklearn import linear_model"
   ]
  },
  {
   "cell_type": "code",
   "execution_count": 2,
   "metadata": {
    "collapsed": true
   },
   "outputs": [],
   "source": [
    "data = load_iris()"
   ]
  },
  {
   "cell_type": "code",
   "execution_count": 3,
   "metadata": {
    "collapsed": true
   },
   "outputs": [],
   "source": [
    "X = data.data\n",
    "y = data.target"
   ]
  },
  {
   "cell_type": "code",
   "execution_count": 4,
   "metadata": {
    "collapsed": true
   },
   "outputs": [],
   "source": [
    "ss = ShuffleSplit(n_splits=1,\n",
    "                             train_size=0.5,\n",
    "                             test_size=0.5,\n",
    "                             random_state=0)"
   ]
  },
  {
   "cell_type": "code",
   "execution_count": 7,
   "metadata": {
    "collapsed": false
   },
   "outputs": [],
   "source": [
    "train_index, test_index = next(ss.split(X, y))\n",
    "X_train, X_test = X[train_index], X[test_index]\n",
    "y_train, y_test = y[train_index], y[test_index]"
   ]
  },
  {
   "cell_type": "code",
   "execution_count": 9,
   "metadata": {
    "collapsed": false
   },
   "outputs": [
    {
     "data": {
      "text/plain": [
       "LogisticRegression(C=1.0, class_weight=None, dual=False, fit_intercept=True,\n",
       "          intercept_scaling=1, max_iter=100, multi_class='ovr', n_jobs=1,\n",
       "          penalty='l2', random_state=None, solver='liblinear', tol=0.0001,\n",
       "          verbose=0, warm_start=False)"
      ]
     },
     "execution_count": 9,
     "metadata": {},
     "output_type": "execute_result"
    }
   ],
   "source": [
    "clf = linear_model.LogisticRegression()\n",
    "clf.fit(X_train, y_train)"
   ]
  },
  {
   "cell_type": "code",
   "execution_count": 10,
   "metadata": {
    "collapsed": false
   },
   "outputs": [
    {
     "data": {
      "text/plain": [
       "0.92000000000000004"
      ]
     },
     "execution_count": 10,
     "metadata": {},
     "output_type": "execute_result"
    }
   ],
   "source": [
    "clf.score(X_train, y_train)"
   ]
  },
  {
   "cell_type": "code",
   "execution_count": 11,
   "metadata": {
    "collapsed": false
   },
   "outputs": [
    {
     "data": {
      "text/plain": [
       "0.83999999999999997"
      ]
     },
     "execution_count": 11,
     "metadata": {},
     "output_type": "execute_result"
    }
   ],
   "source": [
    "clf.score(X_test, y_test)"
   ]
  },
  {
   "cell_type": "code",
   "execution_count": 15,
   "metadata": {
    "collapsed": false
   },
   "outputs": [],
   "source": [
    "ss = ShuffleSplit(n_splits=10,\n",
    "                             train_size=0.5,\n",
    "                             test_size=0.5,\n",
    "                             random_state=0)\n",
    "scores = []\n",
    "for train_index, test_index in ss.split(X):\n",
    "    X_train, y_train = X[train_index], y[train_index]\n",
    "    X_test, y_test = X[test_index], y[test_index]\n",
    "    \n",
    "    clf.fit(X_train, y_train)\n",
    "    scores.append(clf.score(X_test, y_test))\n",
    "\n",
    "scores = np.array(scores)"
   ]
  },
  {
   "cell_type": "code",
   "execution_count": 16,
   "metadata": {
    "collapsed": false
   },
   "outputs": [
    {
     "name": "stdout",
     "output_type": "stream",
     "text": [
      "[ 0.84        0.93333333  0.90666667  1.          0.90666667  0.93333333\n",
      "  0.94666667  1.          0.90666667  0.88      ]\n"
     ]
    }
   ],
   "source": [
    "print(scores)"
   ]
  },
  {
   "cell_type": "code",
   "execution_count": 18,
   "metadata": {
    "collapsed": false
   },
   "outputs": [
    {
     "data": {
      "text/plain": [
       "0.92533333333333334"
      ]
     },
     "execution_count": 18,
     "metadata": {},
     "output_type": "execute_result"
    }
   ],
   "source": [
    "scores.mean()"
   ]
  },
  {
   "cell_type": "code",
   "execution_count": 19,
   "metadata": {
    "collapsed": false
   },
   "outputs": [
    {
     "data": {
      "text/plain": [
       "0.047027178902795737"
      ]
     },
     "execution_count": 19,
     "metadata": {},
     "output_type": "execute_result"
    }
   ],
   "source": [
    "scores.std()"
   ]
  },
  {
   "cell_type": "code",
   "execution_count": 21,
   "metadata": {
    "collapsed": true
   },
   "outputs": [],
   "source": [
    "train_sizes = np.arange(0.1, 1.0, 0.1)"
   ]
  },
  {
   "cell_type": "code",
   "execution_count": 26,
   "metadata": {
    "collapsed": false
   },
   "outputs": [],
   "source": [
    "all_mean = []\n",
    "all_std = []\n",
    "\n",
    "for train_size in train_sizes:\n",
    "    ss = ShuffleSplit(n_splits=100, test_size=1-train_size, train_size=train_size, random_state=0)\n",
    "    scores = []\n",
    "    for train_index, test_index in ss.split(X):\n",
    "        X_train, y_train = X[train_index], y[train_index]\n",
    "        X_test, y_test = X[test_index], y[test_index]\n",
    "    \n",
    "        clf.fit(X_train, y_train)\n",
    "        scores.append(clf.score(X_test, y_test))\n",
    "\n",
    "    scores = np.array(scores)\n",
    "    all_mean.append(scores.mean())\n",
    "    all_std.append(scores.std())"
   ]
  },
  {
   "cell_type": "code",
   "execution_count": 28,
   "metadata": {
    "collapsed": false
   },
   "outputs": [
    {
     "data": {
      "text/plain": [
       "([0.75207407407407401,\n",
       "  0.84091666666666653,\n",
       "  0.89371428571428579,\n",
       "  0.91888888888888898,\n",
       "  0.93066666666666675,\n",
       "  0.9415,\n",
       "  0.94733333333333336,\n",
       "  0.95800000000000007,\n",
       "  0.96066666666666678],\n",
       " [0.10916043239196151,\n",
       "  0.10133206550741972,\n",
       "  0.062982846889193353,\n",
       "  0.046626967240793973,\n",
       "  0.03836665218650176,\n",
       "  0.033374557841432298,\n",
       "  0.035922412963029358,\n",
       "  0.037303559556100742,\n",
       "  0.054238157949710805])"
      ]
     },
     "execution_count": 28,
     "metadata": {},
     "output_type": "execute_result"
    }
   ],
   "source": [
    "all_mean, all_std"
   ]
  },
  {
   "cell_type": "code",
   "execution_count": 32,
   "metadata": {
    "collapsed": false
   },
   "outputs": [
    {
     "data": {
      "text/plain": [
       "[<matplotlib.lines.Line2D at 0x1150aee10>]"
      ]
     },
     "execution_count": 32,
     "metadata": {},
     "output_type": "execute_result"
    },
    {
     "data": {
      "image/png": "[encoded data removed]",
      "text/plain": [
       "<matplotlib.figure.Figure at 0x115654210>"
      ]
     },
     "metadata": {},
     "output_type": "display_data"
    }
   ],
   "source": [
    "import matplotlib.pyplot as plt\n",
    "%matplotlib inline\n",
    "plt.plot(train_sizes, all_mean)\n"
   ]
  },
  {
   "cell_type": "code",
   "execution_count": 39,
   "metadata": {
    "collapsed": false
   },
   "outputs": [
    {
     "data": {
      "text/plain": [
       "<matplotlib.text.Text at 0x1165f3750>"
      ]
     },
     "execution_count": 39,
     "metadata": {},
     "output_type": "execute_result"
    },
    {
     "data": {
      "image/png": "[encoded data removed]",
      "text/plain": [
       "<matplotlib.figure.Figure at 0x1165b3550>"
      ]
     },
     "metadata": {},
     "output_type": "display_data"
    }
   ],
   "source": [
    "plt.plot(train_sizes, all_mean)\n",
    "plt.ylim(0.7, 1)\n",
    "plt.xlim(0,1)\n",
    "plt.errorbar(train_sizes, all_mean, yerr=all_std)\n",
    "plt.xlabel('training size [%]')\n",
    "plt.xlabel('recognition rate')\n",
    "plt.title('Average of 10 hold out tests for different test')"
   ]
  },
  {
   "cell_type": "code",
   "execution_count": 41,
   "metadata": {
    "collapsed": false
   },
   "outputs": [
    {
     "name": "stdout",
     "output_type": "stream",
     "text": [
      "(array([  3, 149,  98,   6,  68, 109,  96,  12, 102, 120, 104, 128,  46,\n",
      "        11, 110, 124,  41, 148,   1, 113, 139,  42,   4, 129,  17,  38,\n",
      "         5,  53, 143, 105,   0,  34,  28,  55,  75,  35,  23,  74,  31,\n",
      "       118,  57, 131,  65,  32, 138,  14, 122,  19,  29, 130,  49, 136,\n",
      "        99,  82,  79, 115, 145,  72,  77,  25,  81, 140, 142,  39,  58,\n",
      "        88,  70,  87,  36,  21,   9, 103,  67, 117,  47]), array([114,  62,  33, 107,   7, 100,  40,  86,  76,  71, 134,  51,  73,\n",
      "        54,  63,  37,  78,  90,  45,  16, 121,  66,  24,   8, 126,  22,\n",
      "        44,  97,  93,  26, 137,  84,  27, 127, 132,  59,  18,  83,  61,\n",
      "        92, 112,   2, 141,  43,  10,  60, 116, 144, 119, 108,  69, 135,\n",
      "        56,  80, 123, 133, 106, 146,  50, 147,  85,  30, 101,  94,  64,\n",
      "        89,  91, 125,  48,  13, 111,  95,  20,  15,  52]))\n",
      "(array([101,  29,  81,  20,  46,  51,  53,  23,  27,   2,  28,  37, 111,\n",
      "        10,  84, 137, 127,  43,  87,  69, 144, 140,  35,  76,   3,  82,\n",
      "       145, 116,  88,  44, 147,   1,  93,  38,  11, 115,  54,  40,  18,\n",
      "        41,  79,  24,  56,  71,  13,  31,  85,  70, 132, 125, 123, 100,\n",
      "        32, 104,  83, 117, 118, 138,  25, 110,  16,  75, 109, 121,  86,\n",
      "       139,   4,  96,  14,  61,  67, 149,  95,  19,  72]), array([ 92, 141, 130, 119,  48, 143, 122,  63,  26,  64,  42, 108,  91,\n",
      "        77,  22, 148,   6,  65,  47,  68,  60,  15, 124,  58, 142,  12,\n",
      "        59, 105,  89,  78,  52, 131, 113,  98,  30, 136,  66, 133,  49,\n",
      "        62,  74,  17, 106,   8, 135,  80, 107,  90,   0,  36, 112,   5,\n",
      "        57, 102,  55,  34, 128,  33,  21,  73,   7,  45, 129, 103, 146,\n",
      "       120,  94,  50, 134,  99, 126, 114,   9,  39,  97]))\n",
      "(array([ 35,  97,  59,  48, 134,  70,  65,  98, 138,  55,  43, 132, 103,\n",
      "        30, 114,  34,  18, 141, 139,  49,  52,  74,  26,  45, 126,  39,\n",
      "         4,  11,  53, 149,  79,   8,   0,   5, 133,  61, 135,   7,  83,\n",
      "        99,  22,  68,  82,  20,  28,  86,  14,  42,  32,  25,  36,  92,\n",
      "        75,  64, 142, 120,  81,  58,  13, 140,  72,  87, 123,  93,  91,\n",
      "       136,  51, 116,  24,  94, 106,  16,  63, 128, 105]), array([ 85, 137,  77, 108, 122, 104, 121,  12,  31,  96, 113, 102,  60,\n",
      "        66, 119,  62,  76,  69,  46, 129,   1,  10,   3,  95,  21,  41,\n",
      "        57,  47,  78,  19, 107,  90,   9, 147, 148,  40,  29,  27,  89,\n",
      "        37,  33,  84,  54,  88,  73, 111, 125, 101, 143,  23, 117,  50,\n",
      "       146,   2, 110, 118, 131,  17,   6, 127,  67, 124,  15,  56, 115,\n",
      "       112,  71, 145, 100,  38,  80, 109,  44, 144, 130]))\n",
      "(array([149,  62, 141, 120,  86,  20,  66,  35,  17,  88,   4,  45,  50,\n",
      "        57,  59,  44,  70,  32,  78, 133, 110,  96,  87,  74,  89,  38,\n",
      "        51, 116,  46,  43,   8,  92, 101,  21, 127, 118,  73,  30, 107,\n",
      "       124,   5,   0,  95,  83,  71, 144, 102, 126, 108,  91,  85,  67,\n",
      "         7,  84,  72,  94, 125, 109,  26,  68,  28, 121,   3, 134,  69,\n",
      "        99,  36,  24,  39, 128, 113, 129,  58, 140, 131]), array([114,  49, 138,  23,   9, 122, 146,  80,  90, 117, 111,  75, 147,\n",
      "       143,  97,  76, 123, 139, 137,  54,  34, 115,  64,  65,  25, 142,\n",
      "       119,  40,  63,  42,  19, 105,  93,  16, 106,  12,  33,  52,  29,\n",
      "        31,  77,  27,  37,  14,  48,   2,  56,   1, 135,  81,  18, 104,\n",
      "       100,  41,  15, 148,  53,  79,   6,  98, 132,  13,  11,  10, 136,\n",
      "        47,  60,  61, 103, 145,  22, 130,  55,  82, 112]))\n",
      "(array([137, 109, 102,  80,  71, 114,  51, 128,  86,  37,  92,  48, 142,\n",
      "       107, 140, 110,  73,  76,  64,  52, 149, 144,  87,  34,  32, 105,\n",
      "        12,  29, 147, 111,  46,  53,   7, 145,  97,  18,  33, 120,  55,\n",
      "        49, 126,  36,  40, 123,   3,  24,  94,  63, 141,  17,   4,  58,\n",
      "        69,  82, 125,  89,  57,  47,  45,  72,  62,  78,  74,  90, 133,\n",
      "       129, 127, 119,  21,  25, 136,  35,  81,  77, 100]), array([ 15, 143,  23, 108, 124,  31, 132,  22, 113,  41,  14,   5,  88,\n",
      "        16, 135, 122,   1, 115,  67,  13, 130, 116,  11, 106, 148,  56,\n",
      "        43,  75,  60, 131, 139,  98,  27,   6,  38,  93,   0,  19,  85,\n",
      "        95,  44,  68, 134,  59, 118,  54, 103,   8,  79,  30,  91, 138,\n",
      "       112,  50,  96, 146,  70,  61,  99,  39,  84, 104, 117, 101,  10,\n",
      "         2,   9,  66,  83, 121,  26,  28,  42,  20,  65]))\n",
      "(array([ 57,  17, 128,  91, 145,  56,  73,  16,  67,  61,   3,  74, 141,\n",
      "        87,   0, 107, 114,  52,   7, 110, 129, 126, 137, 132, 102,  83,\n",
      "        36, 124,  19,  22, 103,  90,  29,  64,  93,  12,  10, 140,  32,\n",
      "        80, 112,  96,  95, 113,  59,  37, 101,  63,  15,   5,  30,  26,\n",
      "        40,  48, 100,   6, 105,  92,  13,  89,  18, 120, 139,  47, 147,\n",
      "        62,  79,  43, 116, 133, 115,   9,  76,   2,  51]), array([ 38,  46,  28,  94, 148, 130,  60,  24,  54, 149,  25, 134, 135,\n",
      "       119, 123,  58,  84,  55,  21,  41, 127,  42,  86,  98,  72,  85,\n",
      "       108, 111,  20,  69,  44,  31,  78,  66,  70,  75, 106,   1, 121,\n",
      "        99,  53, 118,   8, 142, 131,  49, 144,  71, 136,  77,  45, 117,\n",
      "        35,  97,  34, 143,  65,  39,  14,  68,  11,  50, 122, 138,  27,\n",
      "       125, 104, 109,  23,  81,  82,   4,  33,  88, 146]))\n",
      "(array([ 46, 104,  23,  16,  51, 122,   6,  45,  25,  86,  19, 102,  68,\n",
      "        55,  85,  89,  17,  57,  42,  20,  21,  47,  70, 136,  81, 124,\n",
      "        13, 140,  77,   3,  83, 130,  94,  24, 114,   4,   9,  84,  79,\n",
      "        49,  88,  35, 125, 137, 127,  36,  59, 117,  65, 133, 126,  38,\n",
      "         5,  10,   8,   2,  87,  82, 100,  96,  48,  26, 119, 135,  11,\n",
      "       139, 109,  22, 118, 110,  43, 112, 145,  41, 101]), array([ 92,  75, 120,  99,  72, 121,  33,  30,  32, 103,  73, 107,  27,\n",
      "        93, 148,  98,  12,  69, 131,  40, 128, 132,  97,  91,  90,  31,\n",
      "       147,  34, 129,  50,  56,  95,   0,  28, 134,   1,  78,  39, 111,\n",
      "        62, 138,  54,  67,  37,  60,  44, 105,  18,  14,  61,  80,  64,\n",
      "       142, 123,  53, 144, 108,  63,  58, 149,  76, 146, 141, 115,  74,\n",
      "        66, 113,   7,  52, 116,  15,  71, 143, 106,  29]))\n",
      "(array([135,  84,  40,  34,  74, 143, 126,   6, 133,  38, 111,  17,  47,\n",
      "        66,  41, 134, 119, 103,  94,  49,  65, 123,   4, 128,  95,  29,\n",
      "        77,  75,  87, 124, 108,  91, 132,  44,  55, 122,  20, 113,  78,\n",
      "        18,  13,  76, 120,  58, 127,  88,  27,  71,  28, 125, 141,  22,\n",
      "        57,  82, 107,  96,  50, 129, 145, 137,  21,  70,  80, 105,  10,\n",
      "        51,  15, 147,  79,  31,  64,  68,  83, 106,  72]), array([ 25,  73,  37,   1,  92,  24,  93,  43, 114, 144,  63, 115,  12,\n",
      "        36,  60,  85,  35,  45, 130,  62,   8,  14,  19,  69,   5,  56,\n",
      "        81,  53, 149, 109,  98,  33,  46,  97,  90,  16, 148, 136, 118,\n",
      "        54,  39,  99, 110,  67, 131, 104,  26,  61, 102, 101, 117, 146,\n",
      "         0,  23,   9,  52, 140,   7, 142,   2,  11,  30,  59, 116, 100,\n",
      "         3,  86, 139,  48, 121,  89, 138,  42,  32, 112]))\n",
      "(array([ 84,  47,  90,  65,  96, 144,  28,  32,  10, 131, 101, 145, 135,\n",
      "        26, 138,  77,  85, 111, 130,  76,  19,  66,   2,   1,  13,  98,\n",
      "       129,  64,  16,  24,  58, 149, 108, 123,  74, 106,  39,  21,  56,\n",
      "       100, 146, 125,  33,   3,  27, 126,  67,  81, 120,  60,  51,  29,\n",
      "        14, 140, 114,  30, 143, 102,  99, 124,  12,  50,   9,  49, 128,\n",
      "        35, 117,  80,  36, 105, 132, 119,  68, 103,  61]), array([  6,  92,  91,  89, 121, 116, 109,  43, 112, 127,  11,  25,  31,\n",
      "       142, 136,  57,  82,  41, 141,   8,  52, 122,  79,   0,  88,  69,\n",
      "        63,   5,  34,  75, 133,  59,  46,  72,  48, 104,   7,  93,  55,\n",
      "        54,  22,   4, 115,  40,  94,  37,  83,  78,  38,  44,  62, 118,\n",
      "        20,  86,  45, 110,  87,  23, 148,  95, 113, 139,  17, 147,  97,\n",
      "        42, 134,  73, 107,  18,  15, 137,  70,  53,  71]))\n",
      "(array([ 22,  62, 124,  17,  61,  51, 109,  58,  63,  56, 123,  49, 138,\n",
      "        35,  29, 105,  15, 126,  27, 120,  33, 136,  21,  14,  82, 122,\n",
      "       142,  95, 143,  75, 134,   2,  24,  85,   5, 107, 125, 128,  20,\n",
      "        64,  46,  83,   8,  67, 127, 106, 112,  80, 131,  45,  98,  19,\n",
      "        43,  96, 108, 148, 100, 129,   1,  71, 137,  69,  99,  48, 118,\n",
      "       114,  68,  65,  28, 113, 121, 133,  94,  77,  81]), array([132,  90,  18,  52,  87,  11,  92, 139, 147, 115,  97,  38,  44,\n",
      "        13,  88,   3,  70,  12,  31,  55,  74, 117,  39,  93, 102, 145,\n",
      "        37,  76, 110, 130,  86,  54,  26,   0,   4,  66, 140,  34,  47,\n",
      "        23,  32,  41,  91,  57,   7,  40, 146, 101,  30, 119, 135, 104,\n",
      "       116,  50, 144,  84,  36,  73,  10, 103,   6,  89, 141,  53,  72,\n",
      "       111,  25,  60,  78,  59,  16,  42,  79, 149,   9]))\n"
     ]
    }
   ],
   "source": [
    "ss = ShuffleSplit(n_splits=10,\n",
    "                             train_size=0.5,\n",
    "                             test_size=0.5,\n",
    "                             random_state=0)\n",
    "for x  in ss.split(X):\n",
    "    print(x)"
   ]
  },
  {
   "cell_type": "code",
   "execution_count": null,
   "metadata": {
    "collapsed": true
   },
   "outputs": [],
   "source": []
  }
 ],
 "metadata": {
  "kernelspec": {
   "display_name": "Python [conda root]",
   "language": "python",
   "name": "conda-root-py"
  },
  "language_info": {
   "codemirror_mode": {
    "name": "ipython",
    "version": 2
   },
   "file_extension": ".py",
   "mimetype": "text/x-python",
   "name": "python",
   "nbconvert_exporter": "python",
   "pygments_lexer": "ipython2",
   "version": "2.7.12"
  }
 },
 "nbformat": 4,
 "nbformat_minor": 2
}
